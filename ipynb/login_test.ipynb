{
 "cells": [
  {
   "cell_type": "code",
   "execution_count": 5,
   "metadata": {},
   "outputs": [],
   "source": [
    "import streamlit as st\n",
    "\n",
    "# bring in authenticator and yaml file handling\n",
    "import streamlit_authenticator as stauth\n",
    "\n",
    "hashed_passwords = stauth.Hasher(['Oreokitteh', 'Mack06423']).generate()"
   ]
  },
  {
   "cell_type": "code",
   "execution_count": 6,
   "metadata": {},
   "outputs": [
    {
     "name": "stdout",
     "output_type": "stream",
     "text": [
      "['$2b$12$ozyRYV93DnPUyIPV2PJ/4uo.8MdgG.yL4l220folf2Vbdch0MTIjG', '$2b$12$woN7fIYY9H5ekiCuetwiROM8xrMs5vcXKDav65uzxmAFQP7xrJxsm']\n"
     ]
    }
   ],
   "source": [
    "print(hashed_passwords)"
   ]
  },
  {
   "cell_type": "code",
   "execution_count": null,
   "metadata": {},
   "outputs": [],
   "source": []
  }
 ],
 "metadata": {
  "kernelspec": {
   "display_name": "py_obb",
   "language": "python",
   "name": "python3"
  },
  "language_info": {
   "codemirror_mode": {
    "name": "ipython",
    "version": 3
   },
   "file_extension": ".py",
   "mimetype": "text/x-python",
   "name": "python",
   "nbconvert_exporter": "python",
   "pygments_lexer": "ipython3",
   "version": "3.9.13"
  }
 },
 "nbformat": 4,
 "nbformat_minor": 2
}
